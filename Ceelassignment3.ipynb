{
  "cells": [
    {
      "cell_type": "markdown",
      "metadata": {
        "id": "view-in-github",
        "colab_type": "text"
      },
      "source": [
        "<a href=\"https://colab.research.google.com/github/RC11-SkillsClass2022-23/ChangHe/blob/main/Ceelassignment3.ipynb\" target=\"_parent\"><img src=\"https://colab.research.google.com/assets/colab-badge.svg\" alt=\"Open In Colab\"/></a>"
      ]
    },
    {
      "cell_type": "code",
      "execution_count": 5,
      "id": "51a17981",
      "metadata": {
        "id": "51a17981"
      },
      "outputs": [],
      "source": [
        "import numpy as np"
      ]
    },
    {
      "cell_type": "markdown",
      "id": "1e6e80d9",
      "metadata": {
        "id": "1e6e80d9"
      },
      "source": [
        "Numpy documentation: https://numpy.org/doc/stable/index.html\n",
        "\n",
        "ndarray: https://numpy.org/doc/stable/reference/arrays.ndarray.html\n",
        "\n",
        "Ways to create new arrays/matrices: https://numpy.org/doc/stable/reference/routines.array-creation.html\n",
        "\n",
        "basic array manipulation: https://numpy.org/doc/stable/reference/routines.array-manipulation.html"
      ]
    },
    {
      "cell_type": "markdown",
      "id": "4658abc9",
      "metadata": {
        "id": "4658abc9"
      },
      "source": [
        "# Exercise One\n",
        "\n",
        "## 1.1"
      ]
    },
    {
      "cell_type": "code",
      "execution_count": 6,
      "id": "72b146a2",
      "metadata": {
        "id": "72b146a2"
      },
      "outputs": [],
      "source": [
        "def smm(a, b):\n",
        "    n = a.shape[0]\n",
        "    c = np.zeros((n, n))\n",
        "    for i in range(n):\n",
        "        for j in range(n):\n",
        "            cij = 0\n",
        "            for k in range(n):\n",
        "                cij += a[i][k] * b[k][j]\n",
        "            c[i][j] = cij\n",
        "    return c"
      ]
    },
    {
      "cell_type": "markdown",
      "id": "5d2819f2",
      "metadata": {
        "id": "5d2819f2"
      },
      "source": [
        "## 1.2"
      ]
    },
    {
      "cell_type": "markdown",
      "id": "c09c0949",
      "metadata": {
        "id": "c09c0949"
      },
      "source": [
        "The time complexity of the Square-Matrix-Multiply algorithm and the implementation is O(n^3). \n",
        "\n",
        "\n",
        "The algorithm consists of three nested loops. The outermost loop runs n times, and the two inner loops each run n times as well, giving a total of n^2 iterations. Within each iteration, we perform a constant amount of work, so the total amount of work done is O(n^2). Since we perform this amount of work n times, the overall time complexity is O(n^3)."
      ]
    },
    {
      "cell_type": "markdown",
      "id": "3dc7e2b7",
      "metadata": {
        "id": "3dc7e2b7"
      },
      "source": [
        "# Exercise Two\n",
        "## 2.1"
      ]
    },
    {
      "cell_type": "markdown",
      "id": "29141011",
      "metadata": {
        "id": "29141011"
      },
      "source": [
        "# recursiveness\n",
        "1. How is it recursive?\n",
        "\n",
        "The Square-Matrix-Multiply-Recursive algorithm is recursive because it divides the input matrices into four equally-sized submatrices and then calls itself recursively on each of these submatrices. This process continues until the submatrices are reduced to a size of 1, at which point the algorithm computes the product of the single elements of the matrices and returns the result.\n",
        "\n",
        "\n",
        "2. What is the criteria for the base case?\n",
        "\n",
        "\n",
        "The base case for the Square-Matrix-Multiply-Recursive algorithm is when the size of the input matrices is 1. When the matrices are of size 1, the algorithm computes the product of the single elements of the matrices and returns the result.\n",
        "\n",
        "\n",
        "3. How does the recursion step reduce to the base case?\n",
        "\n",
        "In the recursion step of the Square-Matrix-Multiply-Recursive algorithm, the input matrices are divided into four equally-sized submatrices. The algorithm then recursively calls itself on each of these submatrices until the submatrices are reduced to a size of 1. This process continues until the base case is reached, at which point the algorithm computes the product of the single elements of the matrices and returns the result. The recursion step reduces to the base case by continually dividing the input matrices into smaller submatrices until they are of size 1, at which point the algorithm computes the product of the single elements."
      ]
    },
    {
      "cell_type": "markdown",
      "metadata": {
        "id": "v4QzJdl5JO7X"
      },
      "source": [
        "# divide-and-conquer: How does this algorithm fit into the divide-and-conquer approach? \n",
        "\n",
        "Divide: The first step in the divide-and-conquer approach is to divide the problem into smaller subproblems.  In this case, the algorithm divides the input matrices A and B into four equally-sized submatrices, and then recursively calls itself on each of these submatrices. \n",
        " \n",
        "Conquer: The next step is to solve the subproblems.  In this case, the algorithm recursively calls itself on the submatrices until the base case is reached, at which point it computes the product of the single elements of the matrices. \n",
        " \n",
        "Combine: The final step is to combine the solutions of the subproblems to obtain the solution to the original problem.  In this case, the algorithm combines the results of the four recursive calls to compute the product of the original matrices A and B. Specifically, it combines the products of the submatrices as follows: \n",
        " \n",
        "C11 = SMMRec(A11, B11) + SMMRec(A12, B21) \n",
        "C12 = SMMRec(A11, B12) + SMMRec(A12, B22) \n",
        "C21 = SMMRec(A21, B11) + SMMRec(A22, B21) \n",
        "C22 = SMMRec(A21, B12) + SMMRec(A22, B22) \n",
        " \n",
        "These four products are then combined to form the final product C."
      ],
      "id": "v4QzJdl5JO7X"
    },
    {
      "cell_type": "markdown",
      "source": [
        "# divide-and-conquer: How does this algorithm fit into the divide-and-conquer approach? \n",
        "\n",
        "Divide: The first step in the divide-and-conquer approach is to divide the problem into smaller subproblems.  In this case, the algorithm divides the input matrices A and B into four equally-sized submatrices, and then recursively calls itself on each of these submatrices. \n",
        " \n",
        "Conquer: The next step is to solve the subproblems.  In this case, the algorithm recursively calls itself on the submatrices until the base case is reached, at which point it computes the product of the single elements of the matrices. \n",
        " \n",
        "Combine: The final step is to combine the solutions of the subproblems to obtain the solution to the original problem.  In this case, the algorithm combines the results of the four recursive calls to compute the product of the original matrices A and B. Specifically, it combines the products of the submatrices as follows: \n",
        " \n",
        "C11 = SMMRec(A11, B11) + SMMRec(A12, B21) \n",
        "C12 = SMMRec(A11, B12) + SMMRec(A12, B22) \n",
        "C21 = SMMRec(A21, B11) + SMMRec(A22, B21) \n",
        "C22 = SMMRec(A21, B12) + SMMRec(A22, B22) \n",
        " \n",
        "These four products are then combined to form the final product C."
      ],
      "metadata": {
        "id": "axFZR2JOIm9Q"
      },
      "id": "axFZR2JOIm9Q"
    },
    {
      "cell_type": "markdown",
      "id": "d9de9b31",
      "metadata": {
        "id": "d9de9b31"
      },
      "source": [
        "## 2.2"
      ]
    },
    {
      "cell_type": "markdown",
      "id": "0aedab7f",
      "metadata": {
        "id": "0aedab7f"
      },
      "source": [
        "Base case: When the size of the matrices is 1, the algorithm performs a simple multiplication operation, which takes constant time. Therefore, the complexity of the base case is O(1).\n",
        "\n",
        "Divide step: The algorithm divides each of the matrices A, B, and C into four submatrices of size n/2 × n/2. This step involves only copying and creating new matrices, which takes O(n^2) time.\n",
        "\n",
        "Conquer step: The algorithm recursively multiplies the submatrices using SMMRec function. The recurrence relation for the conquer step is T(n) = 8T(n/2) + O(n^2), since there are eight recursive calls to the function, each operating on a matrix of size n/2 × n/2, and the time complexity of each call is O(n^2).\n",
        "\n",
        "Combine step: The algorithm combines the four resulting submatrices of size n/2 × n/2 into a single n × n matrix. This step involves only copying and adding matrices, which takes O(n^2) time.\n",
        "\n",
        "Putting it all together, the time complexity of the SMMRec algorithm can be expressed as:\n",
        "\n",
        "T(n) = O(1), if n = 1\n",
        "T(n) = 8T(n/2) + O(n^2), if n > 1\n",
        "\n",
        "Using the master theorem, we can see that the recurrence relation T(n) = 8T(n/2) + O(n^2) has a complexity of O(n^3). Therefore, the time complexity of the SMMRec algorithm is O(n^3)."
      ]
    },
    {
      "cell_type": "markdown",
      "id": "6928230c",
      "metadata": {
        "id": "6928230c"
      },
      "source": [
        "## 2.3"
      ]
    },
    {
      "cell_type": "code",
      "execution_count": 4,
      "id": "ef9a9048",
      "metadata": {
        "id": "ef9a9048"
      },
      "outputs": [],
      "source": [
        "def square_matrix_multiply_recursive(A, B):\n",
        "    n = len(A)\n",
        "    C = [[0 for j in range(n)] for i in range(n)]\n",
        "    if n == 1:\n",
        "        C[0][0] = A[0][0] * B[0][0]\n",
        "    else:\n",
        "        A11, A12, A21, A22 = split_matrix(A)\n",
        "        B11, B12, B21, B22 = split_matrix(B)\n",
        "        C11 = add_matrices(square_matrix_multiply_recursive(A11, B11), square_matrix_multiply_recursive(A12, B21))\n",
        "        C12 = add_matrices(square_matrix_multiply_recursive(A11, B12), square_matrix_multiply_recursive(A12, B22))\n",
        "        C21 = add_matrices(square_matrix_multiply_recursive(A21, B11), square_matrix_multiply_recursive(A22, B21))\n",
        "        C22 = add_matrices(square_matrix_multiply_recursive(A21, B12), square_matrix_multiply_recursive(A22, B22))\n",
        "        C = merge_matrices(C11, C12, C21, C22)\n",
        "    return C\n",
        "\n",
        "def split_matrix(M):\n",
        "    n = len(M)\n",
        "    new_n = n // 2\n",
        "    A = [[0 for j in range(new_n)] for i in range(new_n)]\n",
        "    B = [[0 for j in range(new_n)] for i in range(new_n)]\n",
        "    C = [[0 for j in range(new_n)] for i in range(new_n)]\n",
        "    D = [[0 for j in range(new_n)] for i in range(new_n)]\n",
        "    for i in range(new_n):\n",
        "        for j in range(new_n):\n",
        "            A[i][j] = M[i][j]\n",
        "            B[i][j] = M[i][j+new_n]\n",
        "            C[i][j] = M[i+new_n][j]\n",
        "            D[i][j] = M[i+new_n][j+new_n]\n",
        "    return A, B, C, D\n",
        "\n",
        "def add_matrices(A, B):\n",
        "    n = len(A)\n",
        "    C = [[0 for j in range(n)] for i in range(n)]\n",
        "    for i in range(n):\n",
        "        for j in range(n):\n",
        "            C[i][j] = A[i][j] + B[i][j]\n",
        "    return C\n",
        "\n",
        "def merge_matrices(A, B, C, D):\n",
        "    n = len(A)\n",
        "    new_n = n * 2\n",
        "    M = [[0 for j in range(new_n)] for i in range(new_n)]\n",
        "    for i in range(n):\n",
        "        for j in range(n):\n",
        "            M[i][j] = A[i][j]\n",
        "            M[i][j+n] = B[i][j]\n",
        "            M[i+n][j] = C[i][j]\n",
        "            M[i+n][j+n] = D[i][j]\n",
        "    return M\n"
      ]
    },
    {
      "cell_type": "markdown",
      "id": "1aa04150",
      "metadata": {
        "id": "1aa04150"
      },
      "source": [
        "The straightforward steps to implement are the base case (when n == 1) and the addition of matrices, since they are simple operations that can be done in constant time. The splitting and merging of matrices, on the other hand, require nested loops and are more complex, since we need to iterate over the entries of the matrices and copy them into new matrices. Finally, the recursion step requires calling the function recursively with smaller submatrices, but this is straightforward once the splitting and merging functions are implemented.\n",
        "\n",
        "In general, matrix multiplication algorithms are complex to implement since they involve a lot of indexing and iteration over the entries of the matrices."
      ]
    },
    {
      "cell_type": "markdown",
      "id": "f14dce2d",
      "metadata": {
        "id": "f14dce2d"
      },
      "source": [
        "# Exercise Three"
      ]
    },
    {
      "cell_type": "markdown",
      "id": "cf276777",
      "metadata": {
        "id": "cf276777"
      },
      "source": [
        "Matrix multiplication is a costly operation because it involves a large number of additions and multiplications. Addition and subtraction of two n × n matrices require n^2 operations, whereas matrix multiplication requires n^3 operations. Therefore, in terms of complexity, matrix multiplication is much more costly than addition and subtraction.\n",
        "\n",
        "The Strassen algorithm reduces the number of multiplications required in the matrix multiplication process. In particular, instead of the 8 multiplications required by the Square-Matrix-Multiply-Recursive algorithm, the Strassen algorithm only requires 7 multiplications. However, it does so at the cost of 10 additional additions and subtractions, which increases the overall complexity.\n",
        "\n",
        "In terms of the complexity formula for the Strassen algorithm, the base case is the same as for the Square-Matrix-Multiply-Recursive algorithm: O(1), since it only involves a single multiplication. The divide step is also the same, as the matrices are still being quartered. However, the conquer step is different, as there are now only 7 multiplications required instead of 8. Finally, the combine step involves more additions and subtractions than the Square-Matrix-Multiply-Recursive algorithm, as there are 10 additional operations required. Therefore, the complexity formula for the Strassen algorithm is:\n",
        "\n",
        "T(n) = O(1), if base case\n",
        "\n",
        "T(n) = 7T(n/2) + O(n^2), else\n",
        "\n",
        "The O(n^2) term represents the additional additions and subtractions required by the Strassen algorithm, which increases the overall complexity. Overall, the Strassen algorithm has a better theoretical complexity than the Square-Matrix-Multiply-Recursive algorithm, as it reduces the number of required multiplications. However, in practice, the algorithm may not always be faster due to the additional additions and subtractions required."
      ]
    }
  ],
  "metadata": {
    "kernelspec": {
      "display_name": "Python 3 (ipykernel)",
      "language": "python",
      "name": "python3"
    },
    "language_info": {
      "codemirror_mode": {
        "name": "ipython",
        "version": 3
      },
      "file_extension": ".py",
      "mimetype": "text/x-python",
      "name": "python",
      "nbconvert_exporter": "python",
      "pygments_lexer": "ipython3",
      "version": "3.9.13"
    },
    "colab": {
      "provenance": [],
      "include_colab_link": true
    }
  },
  "nbformat": 4,
  "nbformat_minor": 5
}