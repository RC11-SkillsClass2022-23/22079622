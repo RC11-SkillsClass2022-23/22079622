{
 "cells": [
  {
   "cell_type": "code",
   "execution_count": 1,
   "metadata": {},
   "outputs": [
    {
     "name": "stdout",
     "output_type": "stream",
     "text": [
      "Requirement already satisfied: pytube in c:\\users\\avey2\\appdata\\local\\programs\\python\\python310\\lib\\site-packages (12.1.3)\n",
      "Note: you may need to restart the kernel to use updated packages.\n"
     ]
    }
   ],
   "source": [
    "pip install --upgrade pytube"
   ]
  },
  {
   "cell_type": "code",
   "execution_count": 4,
   "metadata": {},
   "outputs": [],
   "source": [
    "from pathlib import Path\n",
    "from pytube import YouTube\n",
    "import cv2"
   ]
  },
  {
   "cell_type": "code",
   "execution_count": 5,
   "metadata": {},
   "outputs": [],
   "source": [
    "imagepath = Path(\"./images\")\n",
    "imagepath.mkdir(exist_ok=True)"
   ]
  },
  {
   "cell_type": "code",
   "execution_count": 8,
   "metadata": {},
   "outputs": [
    {
     "ename": "error",
     "evalue": "OpenCV(4.7.0) D:\\a\\opencv-python\\opencv-python\\opencv\\modules\\imgcodecs\\src\\loadsave.cpp:783: error: (-215:Assertion failed) !_img.empty() in function 'cv::imwrite'\n",
     "output_type": "error",
     "traceback": [
      "\u001b[1;31m---------------------------------------------------------------------------\u001b[0m",
      "\u001b[1;31merror\u001b[0m                                     Traceback (most recent call last)",
      "\u001b[1;32md:\\BARC0053 - Bartlett Architecture Skills Elective\\Joris_Blender\\Session3\\Assignment\\ProcessVideo.ipynb Cell 4\u001b[0m in \u001b[0;36m1\n\u001b[0;32m      <a href='vscode-notebook-cell:/d%3A/BARC0053%20-%20Bartlett%20Architecture%20Skills%20Elective/Joris_Blender/Session3/Assignment/ProcessVideo.ipynb#W3sZmlsZQ%3D%3D?line=6'>7</a>\u001b[0m \u001b[39mif\u001b[39;00m frame_no \u001b[39m%\u001b[39m \u001b[39m2\u001b[39m \u001b[39m==\u001b[39m\u001b[39m0\u001b[39m:\n\u001b[0;32m      <a href='vscode-notebook-cell:/d%3A/BARC0053%20-%20Bartlett%20Architecture%20Skills%20Elective/Joris_Blender/Session3/Assignment/ProcessVideo.ipynb#W3sZmlsZQ%3D%3D?line=7'>8</a>\u001b[0m     \u001b[39m# save this frame\u001b[39;00m\n\u001b[0;32m      <a href='vscode-notebook-cell:/d%3A/BARC0053%20-%20Bartlett%20Architecture%20Skills%20Elective/Joris_Blender/Session3/Assignment/ProcessVideo.ipynb#W3sZmlsZQ%3D%3D?line=8'>9</a>\u001b[0m     target \u001b[39m=\u001b[39m \u001b[39mstr\u001b[39m(imagepath \u001b[39m/\u001b[39m \u001b[39mf\u001b[39m\u001b[39m'\u001b[39m\u001b[39m{\u001b[39;00mframe_no\u001b[39m}\u001b[39;00m\u001b[39m.jpg\u001b[39m\u001b[39m'\u001b[39m)\n\u001b[1;32m---> <a href='vscode-notebook-cell:/d%3A/BARC0053%20-%20Bartlett%20Architecture%20Skills%20Elective/Joris_Blender/Session3/Assignment/ProcessVideo.ipynb#W3sZmlsZQ%3D%3D?line=9'>10</a>\u001b[0m     cv2\u001b[39m.\u001b[39;49mimwrite(target, frame)\n\u001b[0;32m     <a href='vscode-notebook-cell:/d%3A/BARC0053%20-%20Bartlett%20Architecture%20Skills%20Elective/Joris_Blender/Session3/Assignment/ProcessVideo.ipynb#W3sZmlsZQ%3D%3D?line=11'>12</a>\u001b[0m frame_no \u001b[39m+\u001b[39m\u001b[39m=\u001b[39m\u001b[39m1\u001b[39m\n",
      "\u001b[1;31merror\u001b[0m: OpenCV(4.7.0) D:\\a\\opencv-python\\opencv-python\\opencv\\modules\\imgcodecs\\src\\loadsave.cpp:783: error: (-215:Assertion failed) !_img.empty() in function 'cv::imwrite'\n"
     ]
    }
   ],
   "source": [
    "cap = cv2.VideoCapture(\"D:\\BARC0053 - Bartlett Architecture Skills Elective\\Joris_Blender\\Session3\\Assignment\\VideoForReconstruct.mp4\")\n",
    "\n",
    "frame_no = 0\n",
    "while(cap.isOpened()):\n",
    "    ret, frame = cap.read()\n",
    "\n",
    "    if frame_no % 2 ==0:\n",
    "        # save this frame\n",
    "        target = str(imagepath / f'{frame_no}.jpg')\n",
    "        cv2.imwrite(target, frame)\n",
    "\n",
    "    frame_no +=1"
   ]
  },
  {
   "cell_type": "code",
   "execution_count": null,
   "metadata": {},
   "outputs": [],
   "source": []
  }
 ],
 "metadata": {
  "kernelspec": {
   "display_name": "Python 3",
   "language": "python",
   "name": "python3"
  },
  "language_info": {
   "codemirror_mode": {
    "name": "ipython",
    "version": 3
   },
   "file_extension": ".py",
   "mimetype": "text/x-python",
   "name": "python",
   "nbconvert_exporter": "python",
   "pygments_lexer": "ipython3",
   "version": "3.10.7"
  },
  "orig_nbformat": 4
 },
 "nbformat": 4,
 "nbformat_minor": 2
}
