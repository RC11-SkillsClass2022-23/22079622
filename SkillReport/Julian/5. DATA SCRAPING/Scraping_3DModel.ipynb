{
 "cells": [
  {
   "cell_type": "code",
   "execution_count": 1,
   "id": "1df21554",
   "metadata": {},
   "outputs": [],
   "source": [
    "from selenium import webdriver\n",
    "from selenium.webdriver.common.by import By\n",
    "from selenium.webdriver.firefox.options import Options\n",
    "import time\n",
    "import urllib.request"
   ]
  },
  {
   "cell_type": "code",
   "execution_count": 2,
   "id": "92e84993",
   "metadata": {},
   "outputs": [],
   "source": [
    "driver = webdriver.Firefox(executable_path = 'C:/Users/Evelyn/MyCode/CALM/Scraping3DModel/geckodriver')\n",
    "driver.get('https://sketchfab.com/feed')"
   ]
  },
  {
   "cell_type": "code",
   "execution_count": 3,
   "id": "35b5900c",
   "metadata": {},
   "outputs": [],
   "source": [
    "#Log in\n",
    "email = driver.find_element(By.NAME, 'email')\n",
    "email.send_keys('calmusers@gmail.com')\n",
    "\n",
    "password = driver.find_element(By.NAME, 'password')\n",
    "password.send_keys('1001001calm!')\n",
    "\n",
    "Login = driver.find_element(By.CLASS_NAME, 'button__text-container')\n",
    "Login.click()"
   ]
  },
  {
   "cell_type": "code",
   "execution_count": 4,
   "id": "388863a0",
   "metadata": {},
   "outputs": [],
   "source": [
    "driver.get('https://sketchfab.com/search?q=bench&type=collections')"
   ]
  },
  {
   "cell_type": "code",
   "execution_count": 5,
   "id": "65fb898b",
   "metadata": {},
   "outputs": [],
   "source": [
    "models = driver.find_element(By.XPATH, '/html/body/div[3]/main/aside/div[3]/div/div/div/div[1]/div[2]/div/div/div[1]/p/span')\n",
    "models.click()"
   ]
  },
  {
   "cell_type": "code",
   "execution_count": 6,
   "id": "c44a7d44",
   "metadata": {},
   "outputs": [
    {
     "name": "stdout",
     "output_type": "stream",
     "text": [
      "[<selenium.webdriver.firefox.webelement.FirefoxWebElement (session=\"4eda725f-87d4-4b17-879e-8660b67849b0\", element=\"f03f2c4f-837c-4eb7-9d7a-031fe8bb9b08\")>, <selenium.webdriver.firefox.webelement.FirefoxWebElement (session=\"4eda725f-87d4-4b17-879e-8660b67849b0\", element=\"7f90b94d-7899-4248-80a2-23776742a02a\")>, <selenium.webdriver.firefox.webelement.FirefoxWebElement (session=\"4eda725f-87d4-4b17-879e-8660b67849b0\", element=\"9e8c11ac-c351-4e3d-998e-ba3ae7e18e2f\")>, <selenium.webdriver.firefox.webelement.FirefoxWebElement (session=\"4eda725f-87d4-4b17-879e-8660b67849b0\", element=\"dcd59fa8-b628-4175-b452-369b27cff112\")>, <selenium.webdriver.firefox.webelement.FirefoxWebElement (session=\"4eda725f-87d4-4b17-879e-8660b67849b0\", element=\"5b3e1bd4-67fc-47e6-9de6-11e98cca94ad\")>, <selenium.webdriver.firefox.webelement.FirefoxWebElement (session=\"4eda725f-87d4-4b17-879e-8660b67849b0\", element=\"2d3db2f5-4a60-442a-bc70-252de726de2d\")>, <selenium.webdriver.firefox.webelement.FirefoxWebElement (session=\"4eda725f-87d4-4b17-879e-8660b67849b0\", element=\"7aa39768-f8d0-407d-8b4b-d5bb81a549ae\")>, <selenium.webdriver.firefox.webelement.FirefoxWebElement (session=\"4eda725f-87d4-4b17-879e-8660b67849b0\", element=\"66102d5f-eeef-4ef5-ada0-836ca304e1c9\")>, <selenium.webdriver.firefox.webelement.FirefoxWebElement (session=\"4eda725f-87d4-4b17-879e-8660b67849b0\", element=\"9fd55608-330a-4f96-8eea-12e38daf5e55\")>, <selenium.webdriver.firefox.webelement.FirefoxWebElement (session=\"4eda725f-87d4-4b17-879e-8660b67849b0\", element=\"477369f8-480a-4114-b436-b0e99605a631\")>, <selenium.webdriver.firefox.webelement.FirefoxWebElement (session=\"4eda725f-87d4-4b17-879e-8660b67849b0\", element=\"a8728761-c6a9-45d8-9508-3b2f4e246800\")>, <selenium.webdriver.firefox.webelement.FirefoxWebElement (session=\"4eda725f-87d4-4b17-879e-8660b67849b0\", element=\"0186e215-2c55-43cc-bf77-c6c09cedecdf\")>, <selenium.webdriver.firefox.webelement.FirefoxWebElement (session=\"4eda725f-87d4-4b17-879e-8660b67849b0\", element=\"3a6b502d-013a-46d6-a488-f7ebdbe189b0\")>, <selenium.webdriver.firefox.webelement.FirefoxWebElement (session=\"4eda725f-87d4-4b17-879e-8660b67849b0\", element=\"005cde6c-b690-4974-aca9-c3cc4ad08e1d\")>, <selenium.webdriver.firefox.webelement.FirefoxWebElement (session=\"4eda725f-87d4-4b17-879e-8660b67849b0\", element=\"b53410d4-3d0c-4adc-b485-244a53b33d88\")>, <selenium.webdriver.firefox.webelement.FirefoxWebElement (session=\"4eda725f-87d4-4b17-879e-8660b67849b0\", element=\"98fb3b14-0df8-4809-ab87-d9965e9b48bb\")>, <selenium.webdriver.firefox.webelement.FirefoxWebElement (session=\"4eda725f-87d4-4b17-879e-8660b67849b0\", element=\"dcecf497-78f0-4ae4-a1bc-0c0d40bf2b5b\")>, <selenium.webdriver.firefox.webelement.FirefoxWebElement (session=\"4eda725f-87d4-4b17-879e-8660b67849b0\", element=\"fd5bc34d-fdd3-49cf-9344-5a8835132b72\")>, <selenium.webdriver.firefox.webelement.FirefoxWebElement (session=\"4eda725f-87d4-4b17-879e-8660b67849b0\", element=\"f7d64de2-f823-40e1-8923-3e3ce8a39e2f\")>, <selenium.webdriver.firefox.webelement.FirefoxWebElement (session=\"4eda725f-87d4-4b17-879e-8660b67849b0\", element=\"15abdbb5-8f8a-481c-a377-4ccb94e73028\")>, <selenium.webdriver.firefox.webelement.FirefoxWebElement (session=\"4eda725f-87d4-4b17-879e-8660b67849b0\", element=\"67ab3ced-7d26-4ba2-8057-3a27d1ab362c\")>, <selenium.webdriver.firefox.webelement.FirefoxWebElement (session=\"4eda725f-87d4-4b17-879e-8660b67849b0\", element=\"dc430bf8-cbea-4d6a-8351-cb1793d04479\")>, <selenium.webdriver.firefox.webelement.FirefoxWebElement (session=\"4eda725f-87d4-4b17-879e-8660b67849b0\", element=\"616feb61-770f-4398-b855-60e1c87fe9b9\")>, <selenium.webdriver.firefox.webelement.FirefoxWebElement (session=\"4eda725f-87d4-4b17-879e-8660b67849b0\", element=\"5cd59823-18a3-49ac-9b03-1886fbc24e47\")>]\n"
     ]
    }
   ],
   "source": [
    "download = driver.find_elements(By.CLASS_NAME, 'card__main__corner.--top-right')\n",
    "print(download)"
   ]
  },
  {
   "cell_type": "code",
   "execution_count": 7,
   "id": "268e56ec",
   "metadata": {},
   "outputs": [
    {
     "name": "stdout",
     "output_type": "stream",
     "text": [
      "['https://sketchfab.com/3d-models/old-church-pew-9c2934828dfa4dc2b64102defa3969e7#download', 'https://sketchfab.com/3d-models/bench-1-e941bde3aea74a2a8c42d2bea259e86c#download', 'https://sketchfab.com/3d-models/classic-simple-bench-2013d10e26794a95a2ff606eb2215848#download', 'https://sketchfab.com/3d-models/bench-01-e6c321d47483484d9828d8ce058cdae1#download', 'https://sketchfab.com/3d-models/viking-bench-088cbdb357d548f99d9d91c08c08f88a#download', 'https://sketchfab.com/3d-models/park-bench-c35e240f84934d7f8f2f3a2c1ecfcd68#download', 'https://sketchfab.com/3d-models/playscape-balance-beam-9b182c9f650d4883960ba6a3bf0411b3#download', 'https://sketchfab.com/3d-models/medival-tavern-bench-907d9a38b26944efaf614b8d784d9dd3#download', 'https://sketchfab.com/3d-models/parametric-bench-002-9e16160f1e944b10804e11477d765ccb#download', 'https://sketchfab.com/3d-models/parametric-bench-003-c260d1f543aa4defa2160eb7a026df81#download', 'https://sketchfab.com/3d-models/sm-bench-01t-80993e9e2d00478ca229bf35ba870b7d#download', 'https://sketchfab.com/3d-models/low-poly-bench-without-back-884511adffd649c69ad9eadbd1143073#download', 'https://sketchfab.com/3d-models/simple-bench-b5254a7158494626bdbbc6f8dfa484d7#download', 'https://sketchfab.com/3d-models/wooden-bench-dd5f87e5b8644111b8180515eed4c54e#download', 'https://sketchfab.com/3d-models/2c71697b657a4e57acce4ffbc4af2405#download', 'https://sketchfab.com/3d-models/funky-bench-7efdd79ff8634218b3e2479b7700ce7a#download', 'https://sketchfab.com/3d-models/f08-04s106-697fbb266a094da7adad32ad15f5baf7#download', 'https://sketchfab.com/3d-models/bench01-8738420804174e739673c3a319d1d124#download', 'https://sketchfab.com/3d-models/sofa-7ec5a88621b84795beb7b335e7100765#download', 'https://sketchfab.com/3d-models/bench-first-blender-project-125203cc15664f9eb3cc38c12ed22e6f#download', 'https://sketchfab.com/3d-models/bench-435b85e248894f808791bc3e44898fd2#download', 'https://sketchfab.com/3d-models/bench-f86f450803cc41e3ba4e8cf5874f8bd6#download', 'https://sketchfab.com/3d-models/bench-bf1d1033eae0450c828ac9b30a53e96d#download', 'https://sketchfab.com/3d-models/vennice-bench-13997228efde4f5ebc28acdce60f7d25#download']\n"
     ]
    }
   ],
   "source": [
    "download_links = [b.find_element(By.TAG_NAME, 'a').get_attribute('href') for b in download]\n",
    "print(download_links)"
   ]
  },
  {
   "cell_type": "code",
   "execution_count": 8,
   "id": "378992b1",
   "metadata": {},
   "outputs": [
    {
     "data": {
      "text/plain": [
       "24"
      ]
     },
     "execution_count": 8,
     "metadata": {},
     "output_type": "execute_result"
    }
   ],
   "source": [
    "len(download_links)"
   ]
  },
  {
   "cell_type": "code",
   "execution_count": 16,
   "id": "8d55086a",
   "metadata": {},
   "outputs": [],
   "source": [
    "for d in download_links:\n",
    "    driver.get(d)\n",
    "    \n",
    "    try:\n",
    "        usdz = driver.find_element(By.XPATH, '/html/body/article/div/div[2]/div/div/section/div/div/div/div[5]/div[4]/div/div[2]/div/button')\n",
    "        usdz.click()\n",
    "        time.sleep(5)\n",
    "    except:\n",
    "        usdz = None\n",
    "        \n",
    "    driver.back()"
   ]
  },
  {
   "cell_type": "code",
   "execution_count": null,
   "id": "24e69da8",
   "metadata": {},
   "outputs": [],
   "source": []
  }
 ],
 "metadata": {
  "kernelspec": {
   "display_name": "py38",
   "language": "python",
   "name": "py38"
  },
  "language_info": {
   "codemirror_mode": {
    "name": "ipython",
    "version": 3
   },
   "file_extension": ".py",
   "mimetype": "text/x-python",
   "name": "python",
   "nbconvert_exporter": "python",
   "pygments_lexer": "ipython3",
   "version": "3.9.12"
  }
 },
 "nbformat": 4,
 "nbformat_minor": 5
}
