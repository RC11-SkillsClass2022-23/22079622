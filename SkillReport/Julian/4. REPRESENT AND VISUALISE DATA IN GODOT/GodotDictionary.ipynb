{
 "cells": [
  {
   "cell_type": "code",
   "execution_count": 1,
   "id": "23c1af98",
   "metadata": {},
   "outputs": [],
   "source": [
    "import json"
   ]
  },
  {
   "cell_type": "code",
   "execution_count": 2,
   "id": "5c5a17be",
   "metadata": {},
   "outputs": [],
   "source": [
    "dictionary = [{'name': 'great_mosque_of_tirana_albania', 'file':'great_mosque_of_tirana_albania.glb','location':(1000,1000,1000)}, {'name': 'ancient_tap', 'file':'ancient_tap.glb','location':(500,500,500)}]"
   ]
  },
  {
   "cell_type": "code",
   "execution_count": 4,
   "id": "6543e7a7",
   "metadata": {},
   "outputs": [],
   "source": [
    "with open ('goodObjects.json','w')as fp: \n",
    "    json.dump(dictionary,fp)"
   ]
  },
  {
   "cell_type": "code",
   "execution_count": null,
   "id": "b4be94db",
   "metadata": {},
   "outputs": [],
   "source": []
  }
 ],
 "metadata": {
  "kernelspec": {
   "display_name": "py38",
   "language": "python",
   "name": "py38"
  },
  "language_info": {
   "codemirror_mode": {
    "name": "ipython",
    "version": 3
   },
   "file_extension": ".py",
   "mimetype": "text/x-python",
   "name": "python",
   "nbconvert_exporter": "python",
   "pygments_lexer": "ipython3",
   "version": "3.9.12"
  }
 },
 "nbformat": 4,
 "nbformat_minor": 5
}
