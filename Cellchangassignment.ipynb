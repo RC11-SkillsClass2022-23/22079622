{
  "nbformat": 4,
  "nbformat_minor": 0,
  "metadata": {
    "colab": {
      "provenance": [],
      "authorship_tag": "ABX9TyNMS8UdhV6OkwUe8tdyQ/Lt",
      "include_colab_link": true
    },
    "kernelspec": {
      "name": "python3",
      "display_name": "Python 3"
    },
    "language_info": {
      "name": "python"
    }
  },
  "cells": [
    {
      "cell_type": "markdown",
      "metadata": {
        "id": "view-in-github",
        "colab_type": "text"
      },
      "source": [
        "<a href=\"https://colab.research.google.com/github/RC11-SkillsClass2022-23/ChangHe/blob/main/Cellchangassignment.ipynb\" target=\"_parent\"><img src=\"https://colab.research.google.com/assets/colab-badge.svg\" alt=\"Open In Colab\"/></a>"
      ]
    },
    {
      "cell_type": "markdown",
      "metadata": {
        "id": "48976e54"
      },
      "source": [
        "\n",
        "### Exercise 1\n",
        "Define a function with at least 1 parameter that returns a lambda expression with also at least 1 parameter and uses the argument of the function. Show, with a few examples, what the function does for different inputs for the function (and the lambda expression)."
      ]
    },
    {
      "cell_type": "code",
      "source": [
        "def adder(a,b):\n",
        "  return lambda x, y: x + y + a + b\n",
        "m = adder(1,2)\n",
        "print (m(4,5))"
      ],
      "metadata": {
        "colab": {
          "base_uri": "https://localhost:8080/"
        },
        "id": "hadb8RjWtrn3",
        "outputId": "3a159dbd-2ab2-4e45-eb5b-0b04bb97e9a4"
      },
      "execution_count": null,
      "outputs": [
        {
          "output_type": "stream",
          "name": "stdout",
          "text": [
            "12\n"
          ]
        }
      ]
    },
    {
      "cell_type": "code",
      "source": [
        "print (m(6,8))"
      ],
      "metadata": {
        "colab": {
          "base_uri": "https://localhost:8080/"
        },
        "id": "DmhpIKPeHKyp",
        "outputId": "ff31486c-2abc-41a4-ee93-beeb053c84a3"
      },
      "execution_count": null,
      "outputs": [
        {
          "output_type": "stream",
          "name": "stdout",
          "text": [
            "17\n"
          ]
        }
      ]
    },
    {
      "cell_type": "markdown",
      "source": [
        "# Recursive functions\n",
        "For any recursive function you write in this section, make clear (with comments) what your base cases and your recursive cases are.\n",
        "Remember the example of the factorial function from the lecture. I will reproduce the Python code here:"
      ],
      "metadata": {
        "id": "oOgA2nH_HXhf"
      }
    },
    {
      "cell_type": "markdown",
      "metadata": {
        "id": "fec13b6f"
      },
      "source": [
        "The other example in the lecture was concerned with Fibonacci numbers.\n",
        "### Exercise 1\n",
        "#### a\n",
        "Implement this Fibonacci function **recursively** in Python:"
      ]
    },
    {
      "cell_type": "code",
      "source": [
        "def Fibonacci(x):\n",
        "    if x == 1: # base case\n",
        "        return 0\n",
        "    if x == 2: # base case\n",
        "        return 1\n",
        "    else: # recursive case\n",
        "        return (Fibonacci(x-2) + Fibonacci(x-1))\n",
        "\n",
        "\n",
        "num = 6\n",
        "print(\"The Fibonacci of\", num, \"is\", Fibonacci(num))"
      ],
      "metadata": {
        "colab": {
          "base_uri": "https://localhost:8080/"
        },
        "id": "HAnFEJsaIZBP",
        "outputId": "79e9a7ff-91ae-4b47-8508-702af9aebd2a"
      },
      "execution_count": null,
      "outputs": [
        {
          "output_type": "stream",
          "name": "stdout",
          "text": [
            "The Fibonacci of 6 is 5\n"
          ]
        }
      ]
    },
    {
      "cell_type": "markdown",
      "metadata": {
        "id": "a89ff1b4"
      },
      "source": [
        "#### b\n",
        "Test your function on some higher numbers. What do you notice? What do you think is causing this?"
      ]
    },
    {
      "cell_type": "code",
      "source": [
        "num = 30\n",
        "print(\"The Fibonacci of\", num, \"is\", Fibonacci(num))"
      ],
      "metadata": {
        "colab": {
          "base_uri": "https://localhost:8080/"
        },
        "id": "r_aQVDkzIUzn",
        "outputId": "813fb9a0-44a9-4122-fac9-db1a7a55601a"
      },
      "execution_count": null,
      "outputs": [
        {
          "output_type": "stream",
          "name": "stdout",
          "text": [
            "The Fibonacci of 30 is 514229\n"
          ]
        }
      ]
    },
    {
      "cell_type": "markdown",
      "metadata": {
        "id": "0ccdd531"
      },
      "source": [
        "### Exercise 2\n",
        "Write a recursive function that takes a list of integers as input and returns the maximum integer stored in the list. Thinking recursively, the maximum is either the first value in the list or the maximum of the rest of the list, whichever is larger. If the list only has 1 integer, then its maximum is this single value, naturally."
      ]
    },
    {
      "cell_type": "code",
      "source": [
        "list = []\n",
        "num = int(input(\"Enter number of values in list: \"))\n",
        "for i in range(1,num+1):\n",
        "    values = int(input(\"Enter integer value: \"))\n",
        "    list.append(values)\n",
        "print(list)\n",
        "\n",
        "print(\"largest integer value is:\" , max(list))"
      ],
      "metadata": {
        "colab": {
          "base_uri": "https://localhost:8080/"
        },
        "id": "5CG8dQKNLnrI",
        "outputId": "adf1c1a2-99ce-4768-d034-6580ff959cd7"
      },
      "execution_count": null,
      "outputs": [
        {
          "output_type": "stream",
          "name": "stdout",
          "text": [
            "Enter number of values in list: 4\n",
            "Enter integer value: 3\n",
            "Enter integer value: 2\n",
            "Enter integer value: 7\n",
            "Enter integer value: 9\n",
            "[3, 2, 7, 9]\n",
            "largest integer value is: 9\n"
          ]
        }
      ]
    },
    {
      "cell_type": "markdown",
      "metadata": {
        "id": "f7d5ea73"
      },
      "source": [
        "### Exercise 3\n",
        "Write a recursive function **letterCount** that takes a string and a character as input, and returns how many times the character occurs in the string. For example, it should have the following outputs:\n",
        "* **letterCount**(\"Julian\", 'i') = 1\n",
        "* **letterCount**(\"Ceel\", 'e') = 2\n",
        "* **letterCount**(\"Joris\", 'a') = 0"
      ]
    },
    {
      "cell_type": "code",
      "source": [
        "def letterCount(s, c) :\n",
        "     \n",
        "    # Count variable\n",
        "    res = 0\n",
        "     \n",
        "    for i in range(len(s)) :\n",
        "         \n",
        "        # Checking character in string\n",
        "        if (s[i] == c):\n",
        "            res = res + 1\n",
        "    return res\n",
        "     \n",
        "     \n",
        "# Driver code\n",
        "str= \"geeksforgeeks\"\n",
        "c = 'e'\n",
        "print(letterCount(str, c))"
      ],
      "metadata": {
        "colab": {
          "base_uri": "https://localhost:8080/"
        },
        "id": "7WpahxCcRZbP",
        "outputId": "2e067638-4aa5-4298-a53c-2099e103bc51"
      },
      "execution_count": null,
      "outputs": [
        {
          "output_type": "stream",
          "name": "stdout",
          "text": [
            "4\n"
          ]
        }
      ]
    },
    {
      "cell_type": "markdown",
      "metadata": {
        "id": "8c41f3c8"
      },
      "source": [
        "### Exercise 2\n",
        "Use lambda expressions and the above-mentioned functions to manipulate the data (a list of dictionaries) below as follows:\n",
        "* sort the data by country\n",
        "* return a filtered list that has only those entries whose 'name' starts with an A or a B\n",
        "* return a filtered list that has only those entries whose 'number' is not divisible by 2 or 3\n",
        "* return a list with the same values as the original, except that each 'number' entry has been doubled\n"
      ]
    },
    {
      "cell_type": "code",
      "source": [
        "data = [{'country': \"Ukraine\",'number': \"3\",'name': \"Derek Bolton\"},{'country': \"United States\",'number': \"3\",'name': \"Britanney Durham\"},{'country': \"China\",'number': \"7\",'name': \"Rachel Dickson\"},{'country': \"India\",'number': \"4\",'name': \"Oren Dominguez\"},{'country': \"Norway\",'number': \"5\",'name': \"Keane Dean\"},{'country': \"New Zealand\",'number': \"8\",'name': \"Tarik Coleman\"},{'country': \"South Africa\",'number': \"3\",'name': \"Uriel Greene\"},{'country': \"China\",'number': \"6\",'name': \"Minerva Shields\"},{'country': \"Norway\",'number': \"7\",'name': \"Robin Butler\"},{'country': \"Germany\",'number': \"7\",'name': \"Stacey Nixon\"},{'country': \"South Africa\",'number': \"4\",'name': \"Glenna Clark\"},{'country': \"Australia\",'number': \"7\",'name': \"Adena Smith\"},{'country': \"Italy\",'number': \"2\",'name': \"Ronan Ellis\"},{'country': \"Chile\",'number': \"1\",'name': \"Ignatius Guy\"},{'country': \"Belgium\",'number': \"8\",'name': \"Barclay Lindsey\"},{'country': \"Peru\",'number': \"2\",'name': \"Fuller Burris\"},{'country': \"Ukraine\",'number': \"2\",'name': \"Kylan Witt\"},{'country': \"United States\",'number': \"1\",'name': \"Kitra Willis\"},{'country': \"Austria\",'number': \"6\",'name': \"Indigo Dillard\"},{'country': \"Chile\",'number': \"3\",'name': \"Benedict Powell\"},{'country': \"Russian Federation\",'number': \"9\",'name': \"Duncan Ware\"},{'country': \"Peru\",'number': \"7\",'name': \"Abra Lewis\"},{'country': \"China\",'number': \"5\",'name': \"Callie Cole\"},{'country': \"United States\",'number': \"0\",'name': \"Cedric Gates\"},{'country': \"Ukraine\",'number': \"7\",'name': \"Malcolm Cox\"},{'country': \"Brazil\",'number': \"6\",'name': \"Connor Potts\"},{'country': \"Sweden\",'number': \"7\",'name': \"Lyle Nguyen\"},{'country': \"United States\",'number': \"3\",'name': \"Rudyard Barrett\"},{'country': \"Costa Rica\",'number': \"2\",'name': \"Judah Brock\"},{'country': \"South Korea\",'number': \"2\",'name': \"Lucius Snider\"},{'country': \"China\",'number': \"1\",'name': \"Cassady Mcdaniel\"},{'country': \"Singapore\",'number': \"2\",'name': \"Allegra Baird\"},{'country': \"Philippines\",'number': \"4\",'name': \"Omar Burgess\"},{'country': \"Turkey\",'number': \"7\",'name': \"Kenyon Rosa\"},{'country': \"Poland\",'number': \"6\",'name': \"Yen Sargent\"},{'country': \"China\",'number': \"3\",'name': \"Rashad Grimes\"},{'country': \"Spain\",'number': \"7\",'name': \"Tamekah Gutierrez\"},{'country': \"Ukraine\",'number': \"3\",'name': \"Liberty Mathis\"},{'country': \"Mexico\",'number': \"3\",'name': \"Rylee Sharpe\"},{'country': \"Mexico\",'number': \"3\",'name': \"Brynn Hinton\"},{'country': \"Sweden\",'number': \"2\",'name': \"Quinn Berg\"},{'country': \"Philippines\",'number': \"9\",'name': \"Simone Tanner\"},{'country': \"Ireland\",'number': \"2\",'name': \"Simon Giles\"},{'country': \"United Kingdom\",'number': \"10\",'name': \"Zenia Coffey\"},{'country': \"Mexico\",'number': \"2\",'name': \"Yael Glass\"},{'country': \"Colombia\",'number': \"5\",'name': \"Inga Russell\"},{'country': \"United Kingdom\",'number': \"1\",'name': \"Brendan Pearson\"},{'country': \"Austria\",'number': \"3\",'name': \"Shafira Parks\"},{'country': \"India\",'number': \"9\",'name': \"Dante Charles\"},{'country': \"Sweden\",'number': \"8\",'name': \"Kylee Good\"},{'country': \"Canada\",'number': \"1\",'name': \"September Bryan\"},{'country': \"Costa Rica\",'number': \"5\",'name': \"Hakeem Flowers\"},{'country': \"Peru\",'number': \"0\",'name': \"Ross Moss\"},{'country': \"Spain\",'number': \"8\",'name': \"Bo Hardy\"},{'country': \"Austria\",'number': \"2\",'name': \"Davis Cardenas\"},{'country': \"Ireland\",'number': \"2\",'name': \"Lane Chandler\"},{'country': \"Ukraine\",'number': \"3\",'name': \"Mohammad Holder\"},{'country': \"Vietnam\",'number': \"8\",'name': \"Jonas Bryan\"},{'country': \"Costa Rica\",'number': \"0\",'name': \"Eve Rivas\"},{'country': \"Australia\",'number': \"4\",'name': \"Elton Collins\"},{'country': \"Norway\",'number': \"8\",'name': \"Cain Fields\"},{'country': \"Vietnam\",'number': \"0\",'name': \"Iliana Daniels\"},{'country': \"Mexico\",'number': \"7\",'name': \"Rajah Robles\"},{'country': \"Australia\",'number': \"3\",'name': \"Charity Conner\"},{'country': \"Chile\",'number': \"5\",'name': \"Kay Parsons\"},{'country': \"Ireland\",'number': \"4\",'name': \"Rachel Howell\"},{'country': \"Singapore\",'number': \"3\",'name': \"Walter Forbes\"},{'country': \"Colombia\",'number': \"1\",'name': \"Gray Hayden\"},{'country': \"Netherlands\",'number': \"9\",'name': \"Ivana Compton\"},{'country': \"South Korea\",'number': \"8\",'name': \"Jamal Kelly\"},{'country': \"Pakistan\",'number': \"0\",'name': \"Robert Cunningham\"},{'country': \"Spain\",'number': \"4\",'name': \"Ignatius Newman\"},{'country': \"Canada\",'number': \"8\",'name': \"Gisela Glenn\"},{'country': \"Vietnam\",'number': \"1\",'name': \"Eliana Nicholson\"},{'country': \"Ukraine\",'number': \"4\",'name': \"Christen James\"},{'country': \"France\",'number': \"4\",'name': \"Devin Spears\"},{'country': \"Costa Rica\",'number': \"3\",'name': \"Phelan Hodges\"},{'country': \"Chile\",'number': \"4\",'name': \"Stewart Coffey\"},{'country': \"Singapore\",'number': \"6\",'name': \"Kasper Justice\"},{'country': \"Italy\",'number': \"7\",'name': \"Xanthus Wilkerson\"},{'country': \"Italy\",'number': \"6\",'name': \"Debra Melendez\"},{'country': \"Germany\",'number': \"6\",'name': \"Galvin Morrison\"},{'country': \"Norway\",'number': \"10\",'name': \"Britanney Daniels\"},{'country': \"Italy\",'number': \"8\",'name': \"Steel Cantu\"},{'country': \"Mexico\",'number': \"7\",'name': \"Graham Ewing\"},{'country': \"China\",'number': \"3\",'name': \"Maia Dunn\"},{'country': \"Australia\",'number': \"3\",'name': \"Violet Thornton\"},{'country': \"Canada\",'number': \"5\",'name': \"Cleo Cardenas\"},{'country': \"United States\",'number': \"8\",'name': \"Castor Bowen\"},{'country': \"Australia\",'number': \"8\",'name': \"Wyatt Carey\"},{'country': \"Philippines\",'number': \"5\",'name': \"Paul Padilla\"},{'country': \"Costa Rica\",'number': \"8\",'name': \"Germane Welch\"},{'country': \"South Korea\",'number': \"4\",'name': \"Zephr Deleon\"},{'country': \"Russian Federation\",'number': \"9\",'name': \"Lionel Armstrong\"},{'country': \"Brazil\",'number': \"6\",'name': \"Eleanor Solomon\"},{'country': \"Nigeria\",'number': \"7\",'name': \"Rachel Woods\"},{'country': \"Indonesia\",'number': \"9\",'name': \"Philip Taylor\"},{'country': \"Brazil\",'number': \"7\",'name': \"Lilah Shelton\"},{'country': \"United Kingdom\",'number': \"3\",'name': \"Gillian Harrington\"},{'country': \"Mexico\",'number': \"3\",'name': \"Odessa Sutton\"}]"
      ],
      "metadata": {
        "id": "MXSX7UUOWd57"
      },
      "execution_count": null,
      "outputs": []
    },
    {
      "cell_type": "code",
      "source": [
        "countrylist=sorted(data,key=lambda x: x['country'])\n",
        "print(countrylist)"
      ],
      "metadata": {
        "colab": {
          "base_uri": "https://localhost:8080/"
        },
        "id": "4gL2tcYTYXWL",
        "outputId": "dde8059f-7fc7-4d83-e677-6302aac11344"
      },
      "execution_count": null,
      "outputs": [
        {
          "output_type": "stream",
          "name": "stdout",
          "text": [
            "[{'country': 'Australia', 'number': '7', 'name': 'Adena Smith'}, {'country': 'Australia', 'number': '4', 'name': 'Elton Collins'}, {'country': 'Australia', 'number': '3', 'name': 'Charity Conner'}, {'country': 'Australia', 'number': '3', 'name': 'Violet Thornton'}, {'country': 'Australia', 'number': '8', 'name': 'Wyatt Carey'}, {'country': 'Austria', 'number': '6', 'name': 'Indigo Dillard'}, {'country': 'Austria', 'number': '3', 'name': 'Shafira Parks'}, {'country': 'Austria', 'number': '2', 'name': 'Davis Cardenas'}, {'country': 'Belgium', 'number': '8', 'name': 'Barclay Lindsey'}, {'country': 'Brazil', 'number': '6', 'name': 'Connor Potts'}, {'country': 'Brazil', 'number': '6', 'name': 'Eleanor Solomon'}, {'country': 'Brazil', 'number': '7', 'name': 'Lilah Shelton'}, {'country': 'Canada', 'number': '1', 'name': 'September Bryan'}, {'country': 'Canada', 'number': '8', 'name': 'Gisela Glenn'}, {'country': 'Canada', 'number': '5', 'name': 'Cleo Cardenas'}, {'country': 'Chile', 'number': '1', 'name': 'Ignatius Guy'}, {'country': 'Chile', 'number': '3', 'name': 'Benedict Powell'}, {'country': 'Chile', 'number': '5', 'name': 'Kay Parsons'}, {'country': 'Chile', 'number': '4', 'name': 'Stewart Coffey'}, {'country': 'China', 'number': '7', 'name': 'Rachel Dickson'}, {'country': 'China', 'number': '6', 'name': 'Minerva Shields'}, {'country': 'China', 'number': '5', 'name': 'Callie Cole'}, {'country': 'China', 'number': '1', 'name': 'Cassady Mcdaniel'}, {'country': 'China', 'number': '3', 'name': 'Rashad Grimes'}, {'country': 'China', 'number': '3', 'name': 'Maia Dunn'}, {'country': 'Colombia', 'number': '5', 'name': 'Inga Russell'}, {'country': 'Colombia', 'number': '1', 'name': 'Gray Hayden'}, {'country': 'Costa Rica', 'number': '2', 'name': 'Judah Brock'}, {'country': 'Costa Rica', 'number': '5', 'name': 'Hakeem Flowers'}, {'country': 'Costa Rica', 'number': '0', 'name': 'Eve Rivas'}, {'country': 'Costa Rica', 'number': '3', 'name': 'Phelan Hodges'}, {'country': 'Costa Rica', 'number': '8', 'name': 'Germane Welch'}, {'country': 'France', 'number': '4', 'name': 'Devin Spears'}, {'country': 'Germany', 'number': '7', 'name': 'Stacey Nixon'}, {'country': 'Germany', 'number': '6', 'name': 'Galvin Morrison'}, {'country': 'India', 'number': '4', 'name': 'Oren Dominguez'}, {'country': 'India', 'number': '9', 'name': 'Dante Charles'}, {'country': 'Indonesia', 'number': '9', 'name': 'Philip Taylor'}, {'country': 'Ireland', 'number': '2', 'name': 'Simon Giles'}, {'country': 'Ireland', 'number': '2', 'name': 'Lane Chandler'}, {'country': 'Ireland', 'number': '4', 'name': 'Rachel Howell'}, {'country': 'Italy', 'number': '2', 'name': 'Ronan Ellis'}, {'country': 'Italy', 'number': '7', 'name': 'Xanthus Wilkerson'}, {'country': 'Italy', 'number': '6', 'name': 'Debra Melendez'}, {'country': 'Italy', 'number': '8', 'name': 'Steel Cantu'}, {'country': 'Mexico', 'number': '3', 'name': 'Rylee Sharpe'}, {'country': 'Mexico', 'number': '3', 'name': 'Brynn Hinton'}, {'country': 'Mexico', 'number': '2', 'name': 'Yael Glass'}, {'country': 'Mexico', 'number': '7', 'name': 'Rajah Robles'}, {'country': 'Mexico', 'number': '7', 'name': 'Graham Ewing'}, {'country': 'Mexico', 'number': '3', 'name': 'Odessa Sutton'}, {'country': 'Netherlands', 'number': '9', 'name': 'Ivana Compton'}, {'country': 'New Zealand', 'number': '8', 'name': 'Tarik Coleman'}, {'country': 'Nigeria', 'number': '7', 'name': 'Rachel Woods'}, {'country': 'Norway', 'number': '5', 'name': 'Keane Dean'}, {'country': 'Norway', 'number': '7', 'name': 'Robin Butler'}, {'country': 'Norway', 'number': '8', 'name': 'Cain Fields'}, {'country': 'Norway', 'number': '10', 'name': 'Britanney Daniels'}, {'country': 'Pakistan', 'number': '0', 'name': 'Robert Cunningham'}, {'country': 'Peru', 'number': '2', 'name': 'Fuller Burris'}, {'country': 'Peru', 'number': '7', 'name': 'Abra Lewis'}, {'country': 'Peru', 'number': '0', 'name': 'Ross Moss'}, {'country': 'Philippines', 'number': '4', 'name': 'Omar Burgess'}, {'country': 'Philippines', 'number': '9', 'name': 'Simone Tanner'}, {'country': 'Philippines', 'number': '5', 'name': 'Paul Padilla'}, {'country': 'Poland', 'number': '6', 'name': 'Yen Sargent'}, {'country': 'Russian Federation', 'number': '9', 'name': 'Duncan Ware'}, {'country': 'Russian Federation', 'number': '9', 'name': 'Lionel Armstrong'}, {'country': 'Singapore', 'number': '2', 'name': 'Allegra Baird'}, {'country': 'Singapore', 'number': '3', 'name': 'Walter Forbes'}, {'country': 'Singapore', 'number': '6', 'name': 'Kasper Justice'}, {'country': 'South Africa', 'number': '3', 'name': 'Uriel Greene'}, {'country': 'South Africa', 'number': '4', 'name': 'Glenna Clark'}, {'country': 'South Korea', 'number': '2', 'name': 'Lucius Snider'}, {'country': 'South Korea', 'number': '8', 'name': 'Jamal Kelly'}, {'country': 'South Korea', 'number': '4', 'name': 'Zephr Deleon'}, {'country': 'Spain', 'number': '7', 'name': 'Tamekah Gutierrez'}, {'country': 'Spain', 'number': '8', 'name': 'Bo Hardy'}, {'country': 'Spain', 'number': '4', 'name': 'Ignatius Newman'}, {'country': 'Sweden', 'number': '7', 'name': 'Lyle Nguyen'}, {'country': 'Sweden', 'number': '2', 'name': 'Quinn Berg'}, {'country': 'Sweden', 'number': '8', 'name': 'Kylee Good'}, {'country': 'Turkey', 'number': '7', 'name': 'Kenyon Rosa'}, {'country': 'Ukraine', 'number': '3', 'name': 'Derek Bolton'}, {'country': 'Ukraine', 'number': '2', 'name': 'Kylan Witt'}, {'country': 'Ukraine', 'number': '7', 'name': 'Malcolm Cox'}, {'country': 'Ukraine', 'number': '3', 'name': 'Liberty Mathis'}, {'country': 'Ukraine', 'number': '3', 'name': 'Mohammad Holder'}, {'country': 'Ukraine', 'number': '4', 'name': 'Christen James'}, {'country': 'United Kingdom', 'number': '10', 'name': 'Zenia Coffey'}, {'country': 'United Kingdom', 'number': '1', 'name': 'Brendan Pearson'}, {'country': 'United Kingdom', 'number': '3', 'name': 'Gillian Harrington'}, {'country': 'United States', 'number': '3', 'name': 'Britanney Durham'}, {'country': 'United States', 'number': '1', 'name': 'Kitra Willis'}, {'country': 'United States', 'number': '0', 'name': 'Cedric Gates'}, {'country': 'United States', 'number': '3', 'name': 'Rudyard Barrett'}, {'country': 'United States', 'number': '8', 'name': 'Castor Bowen'}, {'country': 'Vietnam', 'number': '8', 'name': 'Jonas Bryan'}, {'country': 'Vietnam', 'number': '0', 'name': 'Iliana Daniels'}, {'country': 'Vietnam', 'number': '1', 'name': 'Eliana Nicholson'}]\n"
          ]
        }
      ]
    },
    {
      "cell_type": "code",
      "source": [
        "list(filter(lambda x : (x[\"name\"][0] == 'A') or (x[\"name\"][0] == 'B'), data))"
      ],
      "metadata": {
        "colab": {
          "base_uri": "https://localhost:8080/"
        },
        "id": "kzWvzNYak8Xa",
        "outputId": "e855b369-88c2-4e7f-95ff-0c1693e8aff3"
      },
      "execution_count": null,
      "outputs": [
        {
          "output_type": "execute_result",
          "data": {
            "text/plain": [
              "[{'country': 'United States', 'number': '3', 'name': 'Britanney Durham'},\n",
              " {'country': 'Australia', 'number': '7', 'name': 'Adena Smith'},\n",
              " {'country': 'Belgium', 'number': '8', 'name': 'Barclay Lindsey'},\n",
              " {'country': 'Chile', 'number': '3', 'name': 'Benedict Powell'},\n",
              " {'country': 'Peru', 'number': '7', 'name': 'Abra Lewis'},\n",
              " {'country': 'Singapore', 'number': '2', 'name': 'Allegra Baird'},\n",
              " {'country': 'Mexico', 'number': '3', 'name': 'Brynn Hinton'},\n",
              " {'country': 'United Kingdom', 'number': '1', 'name': 'Brendan Pearson'},\n",
              " {'country': 'Spain', 'number': '8', 'name': 'Bo Hardy'},\n",
              " {'country': 'Norway', 'number': '10', 'name': 'Britanney Daniels'}]"
            ]
          },
          "metadata": {},
          "execution_count": 76
        }
      ]
    },
    {
      "cell_type": "code",
      "source": [
        "list(filter(lambda x:(int(x['number'])%2!=0 and int(x['number'])%3!=0),data))"
      ],
      "metadata": {
        "colab": {
          "base_uri": "https://localhost:8080/"
        },
        "id": "iXnIiRFcmP5K",
        "outputId": "2f16505e-2797-4320-f22b-6b4c1caba14d"
      },
      "execution_count": null,
      "outputs": [
        {
          "output_type": "execute_result",
          "data": {
            "text/plain": [
              "[{'country': 'China', 'number': '7', 'name': 'Rachel Dickson'},\n",
              " {'country': 'Norway', 'number': '5', 'name': 'Keane Dean'},\n",
              " {'country': 'Norway', 'number': '7', 'name': 'Robin Butler'},\n",
              " {'country': 'Germany', 'number': '7', 'name': 'Stacey Nixon'},\n",
              " {'country': 'Australia', 'number': '7', 'name': 'Adena Smith'},\n",
              " {'country': 'Chile', 'number': '1', 'name': 'Ignatius Guy'},\n",
              " {'country': 'United States', 'number': '1', 'name': 'Kitra Willis'},\n",
              " {'country': 'Peru', 'number': '7', 'name': 'Abra Lewis'},\n",
              " {'country': 'China', 'number': '5', 'name': 'Callie Cole'},\n",
              " {'country': 'Ukraine', 'number': '7', 'name': 'Malcolm Cox'},\n",
              " {'country': 'Sweden', 'number': '7', 'name': 'Lyle Nguyen'},\n",
              " {'country': 'China', 'number': '1', 'name': 'Cassady Mcdaniel'},\n",
              " {'country': 'Turkey', 'number': '7', 'name': 'Kenyon Rosa'},\n",
              " {'country': 'Spain', 'number': '7', 'name': 'Tamekah Gutierrez'},\n",
              " {'country': 'Colombia', 'number': '5', 'name': 'Inga Russell'},\n",
              " {'country': 'United Kingdom', 'number': '1', 'name': 'Brendan Pearson'},\n",
              " {'country': 'Canada', 'number': '1', 'name': 'September Bryan'},\n",
              " {'country': 'Costa Rica', 'number': '5', 'name': 'Hakeem Flowers'},\n",
              " {'country': 'Mexico', 'number': '7', 'name': 'Rajah Robles'},\n",
              " {'country': 'Chile', 'number': '5', 'name': 'Kay Parsons'},\n",
              " {'country': 'Colombia', 'number': '1', 'name': 'Gray Hayden'},\n",
              " {'country': 'Vietnam', 'number': '1', 'name': 'Eliana Nicholson'},\n",
              " {'country': 'Italy', 'number': '7', 'name': 'Xanthus Wilkerson'},\n",
              " {'country': 'Mexico', 'number': '7', 'name': 'Graham Ewing'},\n",
              " {'country': 'Canada', 'number': '5', 'name': 'Cleo Cardenas'},\n",
              " {'country': 'Philippines', 'number': '5', 'name': 'Paul Padilla'},\n",
              " {'country': 'Nigeria', 'number': '7', 'name': 'Rachel Woods'},\n",
              " {'country': 'Brazil', 'number': '7', 'name': 'Lilah Shelton'}]"
            ]
          },
          "metadata": {},
          "execution_count": 87
        }
      ]
    },
    {
      "cell_type": "code",
      "source": [
        "list(map(lambda x: dict(x, **{'number': int(x['number'])*2}), data))"
      ],
      "metadata": {
        "colab": {
          "base_uri": "https://localhost:8080/"
        },
        "id": "_HY8ZzHzfQzI",
        "outputId": "2d9d580b-42fa-48e8-8d06-94a71e54eee6"
      },
      "execution_count": null,
      "outputs": [
        {
          "output_type": "execute_result",
          "data": {
            "text/plain": [
              "[{'country': 'Ukraine', 'number': 6, 'name': 'Derek Bolton'},\n",
              " {'country': 'United States', 'number': 6, 'name': 'Britanney Durham'},\n",
              " {'country': 'China', 'number': 14, 'name': 'Rachel Dickson'},\n",
              " {'country': 'India', 'number': 8, 'name': 'Oren Dominguez'},\n",
              " {'country': 'Norway', 'number': 10, 'name': 'Keane Dean'},\n",
              " {'country': 'New Zealand', 'number': 16, 'name': 'Tarik Coleman'},\n",
              " {'country': 'South Africa', 'number': 6, 'name': 'Uriel Greene'},\n",
              " {'country': 'China', 'number': 12, 'name': 'Minerva Shields'},\n",
              " {'country': 'Norway', 'number': 14, 'name': 'Robin Butler'},\n",
              " {'country': 'Germany', 'number': 14, 'name': 'Stacey Nixon'},\n",
              " {'country': 'South Africa', 'number': 8, 'name': 'Glenna Clark'},\n",
              " {'country': 'Australia', 'number': 14, 'name': 'Adena Smith'},\n",
              " {'country': 'Italy', 'number': 4, 'name': 'Ronan Ellis'},\n",
              " {'country': 'Chile', 'number': 2, 'name': 'Ignatius Guy'},\n",
              " {'country': 'Belgium', 'number': 16, 'name': 'Barclay Lindsey'},\n",
              " {'country': 'Peru', 'number': 4, 'name': 'Fuller Burris'},\n",
              " {'country': 'Ukraine', 'number': 4, 'name': 'Kylan Witt'},\n",
              " {'country': 'United States', 'number': 2, 'name': 'Kitra Willis'},\n",
              " {'country': 'Austria', 'number': 12, 'name': 'Indigo Dillard'},\n",
              " {'country': 'Chile', 'number': 6, 'name': 'Benedict Powell'},\n",
              " {'country': 'Russian Federation', 'number': 18, 'name': 'Duncan Ware'},\n",
              " {'country': 'Peru', 'number': 14, 'name': 'Abra Lewis'},\n",
              " {'country': 'China', 'number': 10, 'name': 'Callie Cole'},\n",
              " {'country': 'United States', 'number': 0, 'name': 'Cedric Gates'},\n",
              " {'country': 'Ukraine', 'number': 14, 'name': 'Malcolm Cox'},\n",
              " {'country': 'Brazil', 'number': 12, 'name': 'Connor Potts'},\n",
              " {'country': 'Sweden', 'number': 14, 'name': 'Lyle Nguyen'},\n",
              " {'country': 'United States', 'number': 6, 'name': 'Rudyard Barrett'},\n",
              " {'country': 'Costa Rica', 'number': 4, 'name': 'Judah Brock'},\n",
              " {'country': 'South Korea', 'number': 4, 'name': 'Lucius Snider'},\n",
              " {'country': 'China', 'number': 2, 'name': 'Cassady Mcdaniel'},\n",
              " {'country': 'Singapore', 'number': 4, 'name': 'Allegra Baird'},\n",
              " {'country': 'Philippines', 'number': 8, 'name': 'Omar Burgess'},\n",
              " {'country': 'Turkey', 'number': 14, 'name': 'Kenyon Rosa'},\n",
              " {'country': 'Poland', 'number': 12, 'name': 'Yen Sargent'},\n",
              " {'country': 'China', 'number': 6, 'name': 'Rashad Grimes'},\n",
              " {'country': 'Spain', 'number': 14, 'name': 'Tamekah Gutierrez'},\n",
              " {'country': 'Ukraine', 'number': 6, 'name': 'Liberty Mathis'},\n",
              " {'country': 'Mexico', 'number': 6, 'name': 'Rylee Sharpe'},\n",
              " {'country': 'Mexico', 'number': 6, 'name': 'Brynn Hinton'},\n",
              " {'country': 'Sweden', 'number': 4, 'name': 'Quinn Berg'},\n",
              " {'country': 'Philippines', 'number': 18, 'name': 'Simone Tanner'},\n",
              " {'country': 'Ireland', 'number': 4, 'name': 'Simon Giles'},\n",
              " {'country': 'United Kingdom', 'number': 20, 'name': 'Zenia Coffey'},\n",
              " {'country': 'Mexico', 'number': 4, 'name': 'Yael Glass'},\n",
              " {'country': 'Colombia', 'number': 10, 'name': 'Inga Russell'},\n",
              " {'country': 'United Kingdom', 'number': 2, 'name': 'Brendan Pearson'},\n",
              " {'country': 'Austria', 'number': 6, 'name': 'Shafira Parks'},\n",
              " {'country': 'India', 'number': 18, 'name': 'Dante Charles'},\n",
              " {'country': 'Sweden', 'number': 16, 'name': 'Kylee Good'},\n",
              " {'country': 'Canada', 'number': 2, 'name': 'September Bryan'},\n",
              " {'country': 'Costa Rica', 'number': 10, 'name': 'Hakeem Flowers'},\n",
              " {'country': 'Peru', 'number': 0, 'name': 'Ross Moss'},\n",
              " {'country': 'Spain', 'number': 16, 'name': 'Bo Hardy'},\n",
              " {'country': 'Austria', 'number': 4, 'name': 'Davis Cardenas'},\n",
              " {'country': 'Ireland', 'number': 4, 'name': 'Lane Chandler'},\n",
              " {'country': 'Ukraine', 'number': 6, 'name': 'Mohammad Holder'},\n",
              " {'country': 'Vietnam', 'number': 16, 'name': 'Jonas Bryan'},\n",
              " {'country': 'Costa Rica', 'number': 0, 'name': 'Eve Rivas'},\n",
              " {'country': 'Australia', 'number': 8, 'name': 'Elton Collins'},\n",
              " {'country': 'Norway', 'number': 16, 'name': 'Cain Fields'},\n",
              " {'country': 'Vietnam', 'number': 0, 'name': 'Iliana Daniels'},\n",
              " {'country': 'Mexico', 'number': 14, 'name': 'Rajah Robles'},\n",
              " {'country': 'Australia', 'number': 6, 'name': 'Charity Conner'},\n",
              " {'country': 'Chile', 'number': 10, 'name': 'Kay Parsons'},\n",
              " {'country': 'Ireland', 'number': 8, 'name': 'Rachel Howell'},\n",
              " {'country': 'Singapore', 'number': 6, 'name': 'Walter Forbes'},\n",
              " {'country': 'Colombia', 'number': 2, 'name': 'Gray Hayden'},\n",
              " {'country': 'Netherlands', 'number': 18, 'name': 'Ivana Compton'},\n",
              " {'country': 'South Korea', 'number': 16, 'name': 'Jamal Kelly'},\n",
              " {'country': 'Pakistan', 'number': 0, 'name': 'Robert Cunningham'},\n",
              " {'country': 'Spain', 'number': 8, 'name': 'Ignatius Newman'},\n",
              " {'country': 'Canada', 'number': 16, 'name': 'Gisela Glenn'},\n",
              " {'country': 'Vietnam', 'number': 2, 'name': 'Eliana Nicholson'},\n",
              " {'country': 'Ukraine', 'number': 8, 'name': 'Christen James'},\n",
              " {'country': 'France', 'number': 8, 'name': 'Devin Spears'},\n",
              " {'country': 'Costa Rica', 'number': 6, 'name': 'Phelan Hodges'},\n",
              " {'country': 'Chile', 'number': 8, 'name': 'Stewart Coffey'},\n",
              " {'country': 'Singapore', 'number': 12, 'name': 'Kasper Justice'},\n",
              " {'country': 'Italy', 'number': 14, 'name': 'Xanthus Wilkerson'},\n",
              " {'country': 'Italy', 'number': 12, 'name': 'Debra Melendez'},\n",
              " {'country': 'Germany', 'number': 12, 'name': 'Galvin Morrison'},\n",
              " {'country': 'Norway', 'number': 20, 'name': 'Britanney Daniels'},\n",
              " {'country': 'Italy', 'number': 16, 'name': 'Steel Cantu'},\n",
              " {'country': 'Mexico', 'number': 14, 'name': 'Graham Ewing'},\n",
              " {'country': 'China', 'number': 6, 'name': 'Maia Dunn'},\n",
              " {'country': 'Australia', 'number': 6, 'name': 'Violet Thornton'},\n",
              " {'country': 'Canada', 'number': 10, 'name': 'Cleo Cardenas'},\n",
              " {'country': 'United States', 'number': 16, 'name': 'Castor Bowen'},\n",
              " {'country': 'Australia', 'number': 16, 'name': 'Wyatt Carey'},\n",
              " {'country': 'Philippines', 'number': 10, 'name': 'Paul Padilla'},\n",
              " {'country': 'Costa Rica', 'number': 16, 'name': 'Germane Welch'},\n",
              " {'country': 'South Korea', 'number': 8, 'name': 'Zephr Deleon'},\n",
              " {'country': 'Russian Federation', 'number': 18, 'name': 'Lionel Armstrong'},\n",
              " {'country': 'Brazil', 'number': 12, 'name': 'Eleanor Solomon'},\n",
              " {'country': 'Nigeria', 'number': 14, 'name': 'Rachel Woods'},\n",
              " {'country': 'Indonesia', 'number': 18, 'name': 'Philip Taylor'},\n",
              " {'country': 'Brazil', 'number': 14, 'name': 'Lilah Shelton'},\n",
              " {'country': 'United Kingdom', 'number': 6, 'name': 'Gillian Harrington'},\n",
              " {'country': 'Mexico', 'number': 6, 'name': 'Odessa Sutton'}]"
            ]
          },
          "metadata": {},
          "execution_count": 96
        }
      ]
    },
    {
      "cell_type": "markdown",
      "metadata": {
        "id": "bcdb69fe"
      },
      "source": [
        "# Turing Machines\n",
        "### The exercises for this section are made outside of this notebook. To hand in, either add a separate file with the code to your personal GitHub map, or copy-paste it into the box at the bottom of the notebook. Make sure to clearly label which code belongs to which exercise!\n",
        "Go to turingmachine.io and open the 'binary increment' example at the top. Play around with it and try to understand what is happening.\n",
        "\n",
        "### Exercise 1\n",
        "Make the exercises for the binary increment that are printed below the code on the web page. I will reproduce them here for your convenience:\n",
        "\n",
        "exercises\n",
        "\n",
        "\t# • Modify the machine to always halt on the leftmost digit\n",
        "\t#   (regardless of the number's length).\n",
        "\t#   Hint: add a state between carry and done.\n",
        "\n",
        "\t# • Make a machine that adds 2 instead of 1.\n",
        "\t#   Hint: 2 is '10' in binary, so the last digit is unaffected.\n",
        "\t#   Alternative hint: chain together two copies of the machine from\n",
        "\t#   the first exercise (renaming the states of the second copy).\n",
        "\n",
        "\t# • Make a machine to subtract 1.\n",
        "\t#   To simplify things, assume the input is always greater than 0.\n",
        "\n",
        "### Exercise 2\n",
        "Choose an example at the top (different from 'binary increment') that has complementery exercises and do those.\n",
        "\n"
      ]
    },
    {
      "cell_type": "markdown",
      "source": [
        "\t# • Modify the machine to always halt on the leftmost digit\n",
        "\t#   (regardless of the number's length).\n",
        "\t#   Hint: add a state between carry and done."
      ],
      "metadata": {
        "id": "NVFmUyMI9bvI"
      }
    },
    {
      "cell_type": "code",
      "source": [
        "# Adds 1 to a binary number.\n",
        "input: '10001'\n",
        "blank: ' '\n",
        "start state: right\n",
        "table:\n",
        "  # scan to the rightmost digit\n",
        "  right:\n",
        "    [1,0]: R\n",
        "    ' '  : {L: carry}\n",
        "  # then carry the 1\n",
        "  carry:\n",
        "    1      : {write: 0, L}\n",
        "    [0,' ']: {write: 1, L: check}\n",
        "  check:\n",
        "    1      : {write: 0, L}\n",
        "    0      : {write: 1, L}\n",
        "    ' '    : {R: done}  \n",
        "  done:"
      ],
      "metadata": {
        "id": "F2Z7911q9PyW"
      },
      "execution_count": null,
      "outputs": []
    },
    {
      "cell_type": "markdown",
      "source": [
        "\t# • Make a machine that adds 2 instead of 1.\n",
        "\t#   Hint: 2 is '10' in binary, so the last digit is unaffected.\n",
        "\t#   Alternative hint: chain together two copies of the machine from\n",
        "\t#   the first exercise (renaming the states of the second copy)."
      ],
      "metadata": {
        "id": "_KVtc27j9tWz"
      }
    },
    {
      "cell_type": "code",
      "source": [
        "# Adds 1 to a binary number.\n",
        "input: '1000'\n",
        "blank: ' '\n",
        "start state: right\n",
        "table:\n",
        "  # scan to the rightmost digit\n",
        "  right:\n",
        "    [1,0]: R\n",
        "    ' '  : {L: carry}\n",
        "  # then carry the 1\n",
        "  carry:\n",
        "    [1,0] : {L: change}\n",
        "  change:\n",
        "    1 : {write: 0, L}\n",
        "    [0,' '] : {write: 1, L: done}\n",
        "  done:"
      ],
      "metadata": {
        "id": "RWN8CoMz9u1a"
      },
      "execution_count": null,
      "outputs": []
    },
    {
      "cell_type": "markdown",
      "source": [
        "\t# • Make a machine to subtract 1.\n",
        "\t#   To simplify things, assume the input is always greater than 0.\n"
      ],
      "metadata": {
        "id": "dze9zDazLCyr"
      }
    },
    {
      "cell_type": "code",
      "source": [
        "# Adds 1 to a binary number.\n",
        "input: '100000'\n",
        "blank: ' '\n",
        "start state: right\n",
        "table:\n",
        "  right:\n",
        "    [1,0]: R\n",
        "    ' '  : {L: carry}\n",
        "  carry:\n",
        "    1 : {write: 0, L: done}\n",
        "    0 : {write: 1, L}\n",
        "  done:"
      ],
      "metadata": {
        "id": "y6b15LbPLB7u"
      },
      "execution_count": null,
      "outputs": []
    }
  ]
}